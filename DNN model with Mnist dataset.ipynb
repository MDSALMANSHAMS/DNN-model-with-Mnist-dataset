{
 "cells": [
  {
   "cell_type": "code",
   "execution_count": 1,
   "id": "dab20f5d",
   "metadata": {},
   "outputs": [],
   "source": [
    "import tensorflow as tf\n",
    "\n",
    "from tensorflow.keras import models\n",
    "from tensorflow.keras import layers\n",
    "\n",
    "import random\n",
    "import numpy as np"
   ]
  },
  {
   "cell_type": "code",
   "execution_count": 2,
   "id": "c2e24538",
   "metadata": {},
   "outputs": [],
   "source": [
    "random.seed(42)         \n",
    "np.random.seed(42)      \n",
    "tf.random.set_seed(42)"
   ]
  },
  {
   "cell_type": "code",
   "execution_count": 3,
   "id": "7cfe4e14",
   "metadata": {},
   "outputs": [],
   "source": [
    "mnist = tf.keras.datasets.mnist\n",
    "\n",
    "(Xtrain, Ytrain) , (Xtest, Ytest) = mnist.load_data()"
   ]
  },
  {
   "cell_type": "code",
   "execution_count": 4,
   "id": "68bb851b",
   "metadata": {},
   "outputs": [
    {
     "name": "stdout",
     "output_type": "stream",
     "text": [
      "(60000, 28, 28)\n",
      "(10000, 28, 28)\n",
      "(60000,)\n",
      "(10000,)\n"
     ]
    }
   ],
   "source": [
    "print(Xtrain.shape)\n",
    "print(Xtest.shape)\n",
    "print(Ytrain.shape)\n",
    "print(Ytest.shape)"
   ]
  },
  {
   "cell_type": "code",
   "execution_count": 5,
   "id": "989b676b",
   "metadata": {},
   "outputs": [
    {
     "name": "stdout",
     "output_type": "stream",
     "text": [
      "Xtrain \n",
      " [  0   0   0   0   0   0   0   0   0   0   0   0   0  24 209 254 254 254\n",
      " 171   0   0   0   0   0   0   0   0   0]\n",
      "Xtest \n",
      " [  0   0   0   0   0   0   0   0 194 254 103   0   0   0   0   0   0   0\n",
      "   0   0 150 254 213   0   0   0   0   0]\n",
      "Ytrain \n",
      " 3\n",
      "Ytest \n",
      " 0\n"
     ]
    }
   ],
   "source": [
    "print('Xtrain \\n', Xtrain[10][10])\n",
    "print('Xtest \\n', Xtest[10,10])\n",
    "print('Ytrain \\n', Ytrain[10,])\n",
    "print('Ytest \\n', Ytest[10,])"
   ]
  },
  {
   "cell_type": "code",
   "execution_count": 6,
   "id": "451b4523",
   "metadata": {},
   "outputs": [],
   "source": [
    "Xtrain = Xtrain.reshape((60000, 28*28))    # reshape the input set to size 28*28. \n",
    "Xtrain = Xtrain.astype('float32')/255      # normalize to grayscale; set datatype as float32\n",
    "\n",
    "Xtest = Xtest.reshape((10000, 28*28))      # reshape the input set to size 28*28. \n",
    "Xtest = Xtest.astype('float32')/255        # normalize to grayscale; set datatype as float32\n",
    "\n",
    "Ytrain = tf.keras.utils.to_categorical(Ytrain)\n",
    "Ytest = tf.keras.utils.to_categorical(Ytest)"
   ]
  },
  {
   "cell_type": "code",
   "execution_count": 7,
   "id": "92a608e4",
   "metadata": {},
   "outputs": [
    {
     "name": "stdout",
     "output_type": "stream",
     "text": [
      "Xtrain \n",
      " 0.0\n",
      "Xtest \n",
      " 0.0\n",
      "Ytrain \n",
      " [0. 0. 0. 1. 0. 0. 0. 0. 0. 0.]\n",
      "Ytest \n",
      " [1. 0. 0. 0. 0. 0. 0. 0. 0. 0.]\n"
     ]
    }
   ],
   "source": [
    "print('Xtrain \\n', Xtrain[10,10])\n",
    "print('Xtest \\n', Xtest[10,10])\n",
    "print('Ytrain \\n', Ytrain[10,])\n",
    "print('Ytest \\n', Ytest[10,])"
   ]
  },
  {
   "cell_type": "code",
   "execution_count": 36,
   "id": "f6c035a7",
   "metadata": {},
   "outputs": [
    {
     "name": "stdout",
     "output_type": "stream",
     "text": [
      "Model: \"sequential_5\"\n",
      "_________________________________________________________________\n",
      " Layer (type)                Output Shape              Param #   \n",
      "=================================================================\n",
      " dense_24 (Dense)            (None, 512)               401920    \n",
      "                                                                 \n",
      " dense_25 (Dense)            (None, 256)               131328    \n",
      "                                                                 \n",
      " dense_26 (Dense)            (None, 128)               32896     \n",
      "                                                                 \n",
      " dense_27 (Dense)            (None, 10)                1290      \n",
      "                                                                 \n",
      "=================================================================\n",
      "Total params: 567,434\n",
      "Trainable params: 567,434\n",
      "Non-trainable params: 0\n",
      "_________________________________________________________________\n"
     ]
    }
   ],
   "source": [
    "dnnModel = models.Sequential()\n",
    "\n",
    "# Layer 1 = Input layer\n",
    "dnnModel.add(layers.Dense(512, activation='relu', input_shape= (28*28,)))\n",
    "\n",
    "# Layer 2 = hidden layer \n",
    "dnnModel.add(layers.Dense(256, activation='relu'))\n",
    "\n",
    "# Layer 3 = hidden layer \n",
    "dnnModel.add(layers.Dense(128, activation='relu'))\n",
    "\n",
    "# Layer 4 = output layer\n",
    "dnnModel.add(layers.Dense(10, activation='softmax'))\n",
    "\n",
    "dnnModel.summary()"
   ]
  },
  {
   "cell_type": "code",
   "execution_count": 42,
   "id": "4016bcb2",
   "metadata": {},
   "outputs": [],
   "source": [
    "dnnModel.compile( optimizer = 'RMSprop', loss = 'categorical_crossentropy', metrics=['accuracy'] )"
   ]
  },
  {
   "cell_type": "code",
   "execution_count": 43,
   "id": "dbe4b9f3",
   "metadata": {},
   "outputs": [
    {
     "name": "stdout",
     "output_type": "stream",
     "text": [
      "Epoch 1/10\n",
      "938/938 [==============================] - 12s 12ms/step - loss: 0.1652 - accuracy: 0.9518\n",
      "Epoch 2/10\n",
      "938/938 [==============================] - 11s 12ms/step - loss: 0.0829 - accuracy: 0.9752\n",
      "Epoch 3/10\n",
      "938/938 [==============================] - 11s 12ms/step - loss: 0.0624 - accuracy: 0.9820\n",
      "Epoch 4/10\n",
      "938/938 [==============================] - 11s 12ms/step - loss: 0.0517 - accuracy: 0.9858\n",
      "Epoch 5/10\n",
      "938/938 [==============================] - 11s 12ms/step - loss: 0.0452 - accuracy: 0.9882\n",
      "Epoch 6/10\n",
      "938/938 [==============================] - 11s 12ms/step - loss: 0.0385 - accuracy: 0.9897\n",
      "Epoch 7/10\n",
      "938/938 [==============================] - 11s 12ms/step - loss: 0.0345 - accuracy: 0.9910\n",
      "Epoch 8/10\n",
      "938/938 [==============================] - 11s 12ms/step - loss: 0.0340 - accuracy: 0.9920\n",
      "Epoch 9/10\n",
      "938/938 [==============================] - 11s 12ms/step - loss: 0.0317 - accuracy: 0.9925\n",
      "Epoch 10/10\n",
      "938/938 [==============================] - 11s 12ms/step - loss: 0.0277 - accuracy: 0.9937\n"
     ]
    }
   ],
   "source": [
    "h  = dnnModel.fit( Xtrain, Ytrain, epochs=10, batch_size=64)"
   ]
  },
  {
   "cell_type": "code",
   "execution_count": 44,
   "id": "df917a70",
   "metadata": {},
   "outputs": [
    {
     "name": "stdout",
     "output_type": "stream",
     "text": [
      "Final training loss \t 0.027686316519975662\n",
      "Final training accuracy  0.9936500191688538\n"
     ]
    }
   ],
   "source": [
    "print('Final training loss \\t', h.history['loss'][-1])\n",
    "print('Final training accuracy ', h.history['accuracy'][-1])"
   ]
  },
  {
   "cell_type": "code",
   "execution_count": 45,
   "id": "8a94ba43",
   "metadata": {},
   "outputs": [
    {
     "name": "stdout",
     "output_type": "stream",
     "text": [
      "313/313 [==============================] - 2s 4ms/step - loss: 0.1845 - accuracy: 0.9750\n"
     ]
    }
   ],
   "source": [
    "testLoss, testAccuracy = dnnModel.evaluate( Xtest, Ytest)"
   ]
  },
  {
   "cell_type": "code",
   "execution_count": 46,
   "id": "fbc21149",
   "metadata": {},
   "outputs": [
    {
     "name": "stdout",
     "output_type": "stream",
     "text": [
      "Testing loss \t 0.18447323143482208\n",
      "Testing accuracy  0.9750000238418579\n"
     ]
    }
   ],
   "source": [
    "print('Testing loss \\t', testLoss)\n",
    "print('Testing accuracy ', testAccuracy)"
   ]
  },
  {
   "cell_type": "code",
   "execution_count": null,
   "id": "52729ead",
   "metadata": {},
   "outputs": [],
   "source": []
  }
 ],
 "metadata": {
  "kernelspec": {
   "display_name": "Python 3 (ipykernel)",
   "language": "python",
   "name": "python3"
  },
  "language_info": {
   "codemirror_mode": {
    "name": "ipython",
    "version": 3
   },
   "file_extension": ".py",
   "mimetype": "text/x-python",
   "name": "python",
   "nbconvert_exporter": "python",
   "pygments_lexer": "ipython3",
   "version": "3.9.7"
  }
 },
 "nbformat": 4,
 "nbformat_minor": 5
}
